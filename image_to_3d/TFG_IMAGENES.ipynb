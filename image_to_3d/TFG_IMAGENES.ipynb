{
 "cells": [
  {
   "cell_type": "markdown",
   "id": "3f87588e-991d-43e6-bf49-1df00e635e85",
   "metadata": {},
   "source": [
    "# Analizar imágenes para poder pasarlas de 2D a 3D\n",
    "\n",
    "**Descripción**: Este notebook realiza un análisis de imágnes para lograra convertir imágenes 2D a 3D.\n",
    "\n",
    "**Autor**: Adrián Ortega Moradillo\n",
    "\n",
    "**Universidad**: UBU \n",
    "\n",
    "**Fecha**: 21 de abril de 2025\n"
   ]
  },
  {
   "cell_type": "code",
   "execution_count": null,
   "id": "0cb284a7-c90b-4d9a-b1cd-d55fad196de1",
   "metadata": {},
   "outputs": [],
   "source": [
    "#Imports\n",
    "import open3d as o3d       #Para visualizar y procesar nubes de puntos y mallas 3D\n",
    "import numpy as np         #Para manejar matrices, imágenes y datos\n",
    "import cv2                 #Para cargar y manipular imágenes\n",
    "from skimage import measure #Para extraer superficies (como marching cubes)\n",
    "import torch               #Necesario para cargar y ejecutar el modelo de MiDaS\n",
    "import os                  # Para gestionar carpetas y archivos\n",
    "from glob import glob      # Para buscar archivos tipo \"*.jpg\"\n"
   ]
  },
  {
   "cell_type": "code",
   "execution_count": null,
   "id": "7b0f97ad-9345-431f-8730-c9b1518b734d",
   "metadata": {},
   "outputs": [],
   "source": []
  }
 ],
 "metadata": {
  "kernelspec": {
   "display_name": "Python 3 (ipykernel)",
   "language": "python",
   "name": "python3"
  },
  "language_info": {
   "codemirror_mode": {
    "name": "ipython",
    "version": 3
   },
   "file_extension": ".py",
   "mimetype": "text/x-python",
   "name": "python",
   "nbconvert_exporter": "python",
   "pygments_lexer": "ipython3",
   "version": "3.12.7"
  }
 },
 "nbformat": 4,
 "nbformat_minor": 5
}
